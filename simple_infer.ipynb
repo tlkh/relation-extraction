{
 "cells": [
  {
   "cell_type": "code",
   "execution_count": 1,
   "metadata": {},
   "outputs": [],
   "source": [
    "import numpy as np\n",
    "import tensorflow as tf\n",
    "from tensorflow.keras import layers as l\n",
    "from transformers import *\n",
    "import utils\n",
    "\n",
    "\n",
    "MAX_SEQ_LEN = 128\n",
    "MODEL_NAME = \"distilbert-base-cased\"\n",
    "classes = utils.docred_labels()\n",
    "num_labels = len(classes)\n",
    "\n",
    "tokenizer = DistilBertTokenizer.from_pretrained(MODEL_NAME)\n",
    "config = DistilBertConfig.from_pretrained(MODEL_NAME, num_labels=num_labels)\n",
    "\n",
    "model = utils.distilbert_model(MODEL_NAME, config, num_labels, MAX_SEQ_LEN)\n",
    "model.load_weights(\"distilbert.h5\")"
   ]
  },
  {
   "cell_type": "code",
   "execution_count": 2,
   "metadata": {},
   "outputs": [],
   "source": [
    "def infer(input_text, model, max_seq_len=128):\n",
    "    tokens = tokenizer.encode(input_text)\n",
    "    attention_mask = np.asarray([1 for _ in range(len(tokens))])\n",
    "    tokens = tf.keras.preprocessing.sequence.pad_sequences([tokens],\n",
    "                                                            maxlen=max_seq_len,\n",
    "                                                            dtype=\"int32\",\n",
    "                                                            padding=\"post\",\n",
    "                                                            truncating=\"post\")\n",
    "    attention_mask = tf.keras.preprocessing.sequence.pad_sequences([attention_mask],\n",
    "                                                            maxlen=max_seq_len,\n",
    "                                                            dtype=\"int32\",\n",
    "                                                            padding=\"post\",\n",
    "                                                            truncating=\"post\")\n",
    "    pred = model.predict([tokens, attention_mask])[0]\n",
    "    pred = np.argmax(pred)\n",
    "    return classes[pred]"
   ]
  },
  {
   "cell_type": "code",
   "execution_count": 3,
   "metadata": {},
   "outputs": [
    {
     "data": {
      "text/plain": [
       "'country_of_citizenship'"
      ]
     },
     "execution_count": 3,
     "metadata": {},
     "output_type": "execute_result"
    }
   ],
   "source": [
    "infer(\"Tom is a citizen of Singapore\", model)"
   ]
  },
  {
   "cell_type": "code",
   "execution_count": null,
   "metadata": {},
   "outputs": [],
   "source": []
  },
  {
   "cell_type": "code",
   "execution_count": null,
   "metadata": {},
   "outputs": [],
   "source": []
  }
 ],
 "metadata": {
  "kernelspec": {
   "display_name": "Python 3",
   "language": "python",
   "name": "python3"
  },
  "language_info": {
   "codemirror_mode": {
    "name": "ipython",
    "version": 3
   },
   "file_extension": ".py",
   "mimetype": "text/x-python",
   "name": "python",
   "nbconvert_exporter": "python",
   "pygments_lexer": "ipython3",
   "version": "3.6.7"
  }
 },
 "nbformat": 4,
 "nbformat_minor": 4
}
